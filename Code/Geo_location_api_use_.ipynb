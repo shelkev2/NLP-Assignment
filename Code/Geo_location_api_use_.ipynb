{
  "nbformat": 4,
  "nbformat_minor": 0,
  "metadata": {
    "colab": {
      "name": "Geo location api use .ipynb",
      "version": "0.3.2",
      "provenance": []
    },
    "kernelspec": {
      "name": "python3",
      "display_name": "Python 3"
    }
  },
  "cells": [
    {
      "cell_type": "code",
      "metadata": {
        "id": "stCVRTev_W7y",
        "colab_type": "code",
        "outputId": "9d319e6e-a8d6-44de-b7eb-ed7a24be944d",
        "colab": {
          "base_uri": "https://localhost:8080/",
          "height": 1000
        }
      },
      "source": [
        "pip install ip2geotools"
      ],
      "execution_count": 0,
      "outputs": [
        {
          "output_type": "stream",
          "text": [
            "Collecting ip2geotools\n",
            "  Downloading https://files.pythonhosted.org/packages/54/7d/b7e3252625443b5900feb009eb70527c65c2e5948b0eb7d0ffc063833441/ip2geotools-0.1.5-py3-none-any.whl\n",
            "Collecting future>=0.17.1 (from ip2geotools)\n",
            "\u001b[?25l  Downloading https://files.pythonhosted.org/packages/90/52/e20466b85000a181e1e144fd8305caf2cf475e2f9674e797b222f8105f5f/future-0.17.1.tar.gz (829kB)\n",
            "\u001b[K     |████████████████████████████████| 829kB 7.5MB/s \n",
            "\u001b[?25hRequirement already satisfied: certifi>=2018.10.15 in /usr/local/lib/python3.6/dist-packages (from ip2geotools) (2019.6.16)\n",
            "Requirement already satisfied: six>=1.11.0 in /usr/local/lib/python3.6/dist-packages (from ip2geotools) (1.12.0)\n",
            "Collecting autopep8>=1.4.3 (from ip2geotools)\n",
            "\u001b[?25l  Downloading https://files.pythonhosted.org/packages/45/f3/24b437da561b6af4840c871fbbda32889ca304fc1f7b6cc3ada8b09f394a/autopep8-1.4.4.tar.gz (114kB)\n",
            "\u001b[K     |████████████████████████████████| 122kB 38.3MB/s \n",
            "\u001b[?25hRequirement already satisfied: bleach>=3.0.2 in /usr/local/lib/python3.6/dist-packages (from ip2geotools) (3.1.0)\n",
            "Collecting readme-renderer>=24.0 (from ip2geotools)\n",
            "  Downloading https://files.pythonhosted.org/packages/c3/7e/d1aae793900f36b097cbfcc5e70eef82b5b56423a6c52a36dce51fedd8f0/readme_renderer-24.0-py2.py3-none-any.whl\n",
            "Requirement already satisfied: decorator>=4.3.0 in /usr/local/lib/python3.6/dist-packages (from ip2geotools) (4.4.0)\n",
            "Requirement already satisfied: maxminddb>=1.4.1 in /usr/local/lib/python3.6/dist-packages (from ip2geotools) (1.4.1)\n",
            "Collecting IP2Location>=8.0.3 (from ip2geotools)\n",
            "  Downloading https://files.pythonhosted.org/packages/59/01/e2d878b4fee1cceef4df47121f0f9e3118a9c15effe64908f7e311e601a5/IP2Location-8.1.0-py3-none-any.whl\n",
            "Requirement already satisfied: requests>=2.20.1 in /usr/local/lib/python3.6/dist-packages (from ip2geotools) (2.21.0)\n",
            "Requirement already satisfied: typing>=3.6.6 in /usr/local/lib/python3.6/dist-packages (from ip2geotools) (3.7.4)\n",
            "Requirement already satisfied: docutils>=0.14 in /usr/local/lib/python3.6/dist-packages (from ip2geotools) (0.14)\n",
            "Collecting twine>=1.12.1 (from ip2geotools)\n",
            "  Downloading https://files.pythonhosted.org/packages/28/90/59eec88c0b2ac9e47fe135959007acb93a3cc9f7146366e11fecf718dd15/twine-1.13.0-py2.py3-none-any.whl\n",
            "Collecting Pygments>=2.3.0 (from ip2geotools)\n",
            "\u001b[?25l  Downloading https://files.pythonhosted.org/packages/5c/73/1dfa428150e3ccb0fa3e68db406e5be48698f2a979ccbcec795f28f44048/Pygments-2.4.2-py2.py3-none-any.whl (883kB)\n",
            "\u001b[K     |████████████████████████████████| 890kB 40.8MB/s \n",
            "\u001b[?25hRequirement already satisfied: tqdm>=4.28.1 in /usr/local/lib/python3.6/dist-packages (from ip2geotools) (4.28.1)\n",
            "Requirement already satisfied: urllib3>=1.24.1 in /usr/local/lib/python3.6/dist-packages (from ip2geotools) (1.24.3)\n",
            "Requirement already satisfied: wrapt>=1.10.11 in /usr/local/lib/python3.6/dist-packages (from ip2geotools) (1.11.2)\n",
            "Collecting lazy-object-proxy>=1.3.1 (from ip2geotools)\n",
            "\u001b[?25l  Downloading https://files.pythonhosted.org/packages/1a/2a/d73b99e9407be3acd7c0328fcc44bcf6f5c42e6d03d1fb192032c0057d13/lazy_object_proxy-1.4.1-cp36-cp36m-manylinux1_x86_64.whl (49kB)\n",
            "\u001b[K     |████████████████████████████████| 51kB 17.3MB/s \n",
            "\u001b[?25hRequirement already satisfied: packaging>=18.0 in /usr/local/lib/python3.6/dist-packages (from ip2geotools) (19.0)\n",
            "Collecting astroid>=2.1.0 (from ip2geotools)\n",
            "\u001b[?25l  Downloading https://files.pythonhosted.org/packages/d5/ad/7221a62a2dbce5c3b8c57fd18e1052c7331adc19b3f27f1561aa6e620db2/astroid-2.2.5-py3-none-any.whl (193kB)\n",
            "\u001b[K     |████████████████████████████████| 194kB 41.7MB/s \n",
            "\u001b[?25hCollecting pkginfo>=1.4.2 (from ip2geotools)\n",
            "  Downloading https://files.pythonhosted.org/packages/e6/d5/451b913307b478c49eb29084916639dc53a88489b993530fed0a66bab8b9/pkginfo-1.5.0.1-py2.py3-none-any.whl\n",
            "Collecting geoip2>=2.9.0 (from ip2geotools)\n",
            "  Using cached https://files.pythonhosted.org/packages/ed/17/bcbb7c0849492e218767e658c66fbf9e3420b6301072371547c4f7192d48/geoip2-2.9.0-py2.py3-none-any.whl\n",
            "Collecting geocoder>=1.38.1 (from ip2geotools)\n",
            "\u001b[?25l  Downloading https://files.pythonhosted.org/packages/4f/6b/13166c909ad2f2d76b929a4227c952630ebaf0d729f6317eb09cbceccbab/geocoder-1.38.1-py2.py3-none-any.whl (98kB)\n",
            "\u001b[K     |████████████████████████████████| 102kB 25.6MB/s \n",
            "\u001b[?25hRequirement already satisfied: pyparsing>=2.3.0 in /usr/local/lib/python3.6/dist-packages (from ip2geotools) (2.4.0)\n",
            "Collecting pip-review>=1.0 (from ip2geotools)\n",
            "  Downloading https://files.pythonhosted.org/packages/92/a0/d978fd28bab000001304a29d560af69a755d9524bece3f6af7f3f1fcccca/pip_review-1.0-py2.py3-none-any.whl\n",
            "Collecting dicttoxml>=1.7.4 (from ip2geotools)\n",
            "  Downloading https://files.pythonhosted.org/packages/74/36/534db111db9e7610a41641a1f6669a964aacaf51858f466de264cc8dcdd9/dicttoxml-1.7.4.tar.gz\n",
            "Collecting pylint>=2.2.0 (from ip2geotools)\n",
            "\u001b[?25l  Downloading https://files.pythonhosted.org/packages/60/c2/b3f73f4ac008bef6e75bca4992f3963b3f85942e0277237721ef1c151f0d/pylint-2.3.1-py3-none-any.whl (765kB)\n",
            "\u001b[K     |████████████████████████████████| 768kB 34.7MB/s \n",
            "\u001b[?25hCollecting ratelim>=0.1.6 (from ip2geotools)\n",
            "  Downloading https://files.pythonhosted.org/packages/f2/98/7e6d147fd16a10a5f821db6e25f192265d6ecca3d82957a4fdd592cad49c/ratelim-0.1.6-py2.py3-none-any.whl\n",
            "Requirement already satisfied: Click>=7.0 in /usr/local/lib/python3.6/dist-packages (from ip2geotools) (7.0)\n",
            "Collecting pyquery>=1.4.0 (from ip2geotools)\n",
            "  Downloading https://files.pythonhosted.org/packages/09/c7/ce8c9c37ab8ff8337faad3335c088d60bed4a35a4bed33a64f0e64fbcf29/pyquery-1.4.0-py2.py3-none-any.whl\n",
            "Requirement already satisfied: lxml>=4.2.5 in /usr/local/lib/python3.6/dist-packages (from ip2geotools) (4.2.6)\n",
            "Collecting cssselect>=1.0.3 (from ip2geotools)\n",
            "  Downloading https://files.pythonhosted.org/packages/7b/44/25b7283e50585f0b4156960691d951b05d061abf4a714078393e51929b30/cssselect-1.0.3-py2.py3-none-any.whl\n",
            "Requirement already satisfied: webencodings>=0.5.1 in /usr/local/lib/python3.6/dist-packages (from ip2geotools) (0.5.1)\n",
            "Collecting requests-toolbelt>=0.8.0 (from ip2geotools)\n",
            "\u001b[?25l  Downloading https://files.pythonhosted.org/packages/60/ef/7681134338fc097acef8d9b2f8abe0458e4d87559c689a8c306d0957ece5/requests_toolbelt-0.9.1-py2.py3-none-any.whl (54kB)\n",
            "\u001b[K     |████████████████████████████████| 61kB 21.9MB/s \n",
            "\u001b[?25hCollecting isort>=4.3.4 (from ip2geotools)\n",
            "\u001b[?25l  Downloading https://files.pythonhosted.org/packages/e5/b0/c121fd1fa3419ea9bfd55c7f9c4fedfec5143208d8c7ad3ce3db6c623c21/isort-4.3.21-py2.py3-none-any.whl (42kB)\n",
            "\u001b[K     |████████████████████████████████| 51kB 19.8MB/s \n",
            "\u001b[?25hCollecting pycodestyle>=2.4.0 (from ip2geotools)\n",
            "\u001b[?25l  Downloading https://files.pythonhosted.org/packages/0e/0c/04a353e104d2f324f8ee5f4b32012618c1c86dd79e52a433b64fceed511b/pycodestyle-2.5.0-py2.py3-none-any.whl (51kB)\n",
            "\u001b[K     |████████████████████████████████| 51kB 16.0MB/s \n",
            "\u001b[?25hCollecting typed-ast>=1.1.0 (from ip2geotools)\n",
            "\u001b[?25l  Downloading https://files.pythonhosted.org/packages/31/d3/9d1802c161626d0278bafb1ffb32f76b9d01e123881bbf9d91e8ccf28e18/typed_ast-1.4.0-cp36-cp36m-manylinux1_x86_64.whl (736kB)\n",
            "\u001b[K     |████████████████████████████████| 737kB 38.8MB/s \n",
            "\u001b[?25hRequirement already satisfied: idna>=2.7 in /usr/local/lib/python3.6/dist-packages (from ip2geotools) (2.8)\n",
            "Requirement already satisfied: chardet>=3.0.4 in /usr/local/lib/python3.6/dist-packages (from ip2geotools) (3.0.4)\n",
            "Collecting selenium>=3.141.0 (from ip2geotools)\n",
            "\u001b[?25l  Downloading https://files.pythonhosted.org/packages/80/d6/4294f0b4bce4de0abf13e17190289f9d0613b0a44e5dd6a7f5ca98459853/selenium-3.141.0-py2.py3-none-any.whl (904kB)\n",
            "\u001b[K     |████████████████████████████████| 911kB 28.7MB/s \n",
            "\u001b[?25hCollecting mccabe>=0.6.1 (from ip2geotools)\n",
            "  Downloading https://files.pythonhosted.org/packages/87/89/479dc97e18549e21354893e4ee4ef36db1d237534982482c3681ee6e7b57/mccabe-0.6.1-py2.py3-none-any.whl\n",
            "Requirement already satisfied: setuptools>=0.7.0 in /usr/local/lib/python3.6/dist-packages (from twine>=1.12.1->ip2geotools) (41.0.1)\n",
            "Requirement already satisfied: pip in /usr/local/lib/python3.6/dist-packages (from pip-review>=1.0->ip2geotools) (19.1.1)\n",
            "Building wheels for collected packages: future, autopep8, dicttoxml\n",
            "  Building wheel for future (setup.py) ... \u001b[?25l\u001b[?25hdone\n",
            "  Stored in directory: /root/.cache/pip/wheels/0c/61/d2/d6b7317325828fbb39ee6ad559dbe4664d0896da4721bf379e\n",
            "  Building wheel for autopep8 (setup.py) ... \u001b[?25l\u001b[?25hdone\n",
            "  Stored in directory: /root/.cache/pip/wheels/7e/f5/4b/c19e6276126325eb8071b273347c05a830c37a82b9b3b81510\n",
            "  Building wheel for dicttoxml (setup.py) ... \u001b[?25l\u001b[?25hdone\n",
            "  Stored in directory: /root/.cache/pip/wheels/62/4f/a3/afd4a68f5add45a668c14efa53b64d5cffb2be6bacf993c151\n",
            "Successfully built future autopep8 dicttoxml\n",
            "\u001b[31mERROR: jupyter-console 6.0.0 has requirement prompt-toolkit<2.1.0,>=2.0.0, but you'll have prompt-toolkit 1.0.16 which is incompatible.\u001b[0m\n",
            "\u001b[31mERROR: datascience 0.10.6 has requirement folium==0.2.1, but you'll have folium 0.8.3 which is incompatible.\u001b[0m\n",
            "Installing collected packages: future, pycodestyle, autopep8, Pygments, readme-renderer, IP2Location, pkginfo, requests-toolbelt, twine, lazy-object-proxy, typed-ast, astroid, geoip2, ratelim, geocoder, pip-review, dicttoxml, isort, mccabe, pylint, cssselect, pyquery, selenium, ip2geotools\n",
            "  Found existing installation: future 0.16.0\n",
            "    Uninstalling future-0.16.0:\n",
            "      Successfully uninstalled future-0.16.0\n",
            "  Found existing installation: Pygments 2.1.3\n",
            "    Uninstalling Pygments-2.1.3:\n",
            "      Successfully uninstalled Pygments-2.1.3\n",
            "Successfully installed IP2Location-8.1.0 Pygments-2.4.2 astroid-2.2.5 autopep8-1.4.4 cssselect-1.0.3 dicttoxml-1.7.4 future-0.17.1 geocoder-1.38.1 geoip2-2.9.0 ip2geotools-0.1.5 isort-4.3.21 lazy-object-proxy-1.4.1 mccabe-0.6.1 pip-review-1.0 pkginfo-1.5.0.1 pycodestyle-2.5.0 pylint-2.3.1 pyquery-1.4.0 ratelim-0.1.6 readme-renderer-24.0 requests-toolbelt-0.9.1 selenium-3.141.0 twine-1.13.0 typed-ast-1.4.0\n"
          ],
          "name": "stdout"
        },
        {
          "output_type": "display_data",
          "data": {
            "application/vnd.colab-display-data+json": {
              "pip_warning": {
                "packages": [
                  "geoip2",
                  "pygments"
                ]
              }
            }
          },
          "metadata": {
            "tags": []
          }
        }
      ]
    },
    {
      "cell_type": "code",
      "metadata": {
        "id": "DNjq_x_sP3UR",
        "colab_type": "code",
        "outputId": "60b5f7b9-f9f1-4e71-bd41-87bec99c702a",
        "colab": {
          "resources": {
            "http://localhost:8080/nbextensions/google.colab/files.js": {
              "data": "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",
              "ok": true,
              "headers": [
                [
                  "content-type",
                  "application/javascript"
                ]
              ],
              "status": 200,
              "status_text": ""
            }
          },
          "base_uri": "https://localhost:8080/",
          "height": 655
        }
      },
      "source": [
        "from ip2geotools.databases.noncommercial import DbIpCity\n",
        "import pandas as pd\n",
        "import numpy as np\n",
        "import urllib\n",
        "from urllib.parse import unquote\n",
        "import urllib.parse\n",
        "\n",
        "import re\n",
        "import pandas as pd \n",
        "import numpy as np \n",
        "import matplotlib.pyplot as plt \n",
        "import seaborn as sns\n",
        "import string\n",
        "import nltk\n",
        "import warnings \n",
        "warnings.filterwarnings(\"ignore\", category=DeprecationWarning)\n",
        "\n",
        "%matplotlib inline\n",
        "\n",
        "\n",
        "\n",
        "                                                                            #######################\n",
        "from google.colab import files\n",
        "uploaded = files.upload()\n",
        "for fn in uploaded.keys():                                                            # comment this section & give path below\n",
        "  print('User uploaded file \"{name}\" with length {length} bytes'.format(\n",
        "      name=fn, length=len(uploaded[fn])))\n",
        "\n",
        "                                                                            ########################  \n",
        "\n",
        "data=pd.read_csv('sample_data.csv',encoding='utf8')    # give your file path here\n",
        "\n",
        "\n",
        "\n",
        "\n",
        "columns=['session id', 'uuid', 'timestamp', 'location', 'location path','location query', 'referral location', \\\n",
        "         'ua_string', 'geo_ip']\n",
        "\n",
        "data.head()\n",
        "\n"
      ],
      "execution_count": 0,
      "outputs": [
        {
          "output_type": "display_data",
          "data": {
            "text/html": [
              "\n",
              "     <input type=\"file\" id=\"files-056393e4-5762-4c94-b364-d6f41c39c18d\" name=\"files[]\" multiple disabled />\n",
              "     <output id=\"result-056393e4-5762-4c94-b364-d6f41c39c18d\">\n",
              "      Upload widget is only available when the cell has been executed in the\n",
              "      current browser session. Please rerun this cell to enable.\n",
              "      </output>\n",
              "      <script src=\"/nbextensions/google.colab/files.js\"></script> "
            ],
            "text/plain": [
              "<IPython.core.display.HTML object>"
            ]
          },
          "metadata": {
            "tags": []
          }
        },
        {
          "output_type": "stream",
          "text": [
            "Saving sample_data.csv to sample_data.csv\n",
            "User uploaded file \"sample_data.csv\" with length 152755 bytes\n"
          ],
          "name": "stdout"
        },
        {
          "output_type": "execute_result",
          "data": {
            "text/html": [
              "<div>\n",
              "<style scoped>\n",
              "    .dataframe tbody tr th:only-of-type {\n",
              "        vertical-align: middle;\n",
              "    }\n",
              "\n",
              "    .dataframe tbody tr th {\n",
              "        vertical-align: top;\n",
              "    }\n",
              "\n",
              "    .dataframe thead th {\n",
              "        text-align: right;\n",
              "    }\n",
              "</style>\n",
              "<table border=\"1\" class=\"dataframe\">\n",
              "  <thead>\n",
              "    <tr style=\"text-align: right;\">\n",
              "      <th></th>\n",
              "      <th>session id</th>\n",
              "      <th>uuid</th>\n",
              "      <th>timestamp</th>\n",
              "      <th>location</th>\n",
              "      <th>location path</th>\n",
              "      <th>location query</th>\n",
              "      <th>referral location</th>\n",
              "      <th>ua_string</th>\n",
              "      <th>geo_ip</th>\n",
              "    </tr>\n",
              "  </thead>\n",
              "  <tbody>\n",
              "    <tr>\n",
              "      <th>0</th>\n",
              "      <td>3efae056-7cd2-4e89-9820-a1b938cbb746</td>\n",
              "      <td>9567f0c2-d71e-4ba3-afdc-d46e37894fb4</td>\n",
              "      <td>09/07/17 10:43</td>\n",
              "      <td>www.acmeservices.com</td>\n",
              "      <td>/editing-services/research-paper-editing-and-p...</td>\n",
              "      <td>keyword=edit%20paper&amp;matchtype=e&amp;device=c&amp;crea...</td>\n",
              "      <td>www.google.com</td>\n",
              "      <td>Mozilla/5.0 (Windows NT 10.0; Win64; x64) Appl...</td>\n",
              "      <td>73.132.164.124</td>\n",
              "    </tr>\n",
              "    <tr>\n",
              "      <th>1</th>\n",
              "      <td>7039c571-4487-4d96-8013-4b4b70e66dc7</td>\n",
              "      <td>NaN</td>\n",
              "      <td>09/07/17 10:44</td>\n",
              "      <td>www.acmeservices.com</td>\n",
              "      <td>/editing-services/english-language-editing-and...</td>\n",
              "      <td>keyword=professional%20editing%20services&amp;matc...</td>\n",
              "      <td>www.google.com</td>\n",
              "      <td>Mozilla/5.0 (Windows NT 10.0; Win64; x64) Appl...</td>\n",
              "      <td>100.35.108.133</td>\n",
              "    </tr>\n",
              "    <tr>\n",
              "      <th>2</th>\n",
              "      <td>5b31e12a-229f-4774-8dae-b7267d04cba2</td>\n",
              "      <td>9567f0c2-d71e-4ba3-afdc-d46e37894fb4</td>\n",
              "      <td>09/07/17 10:54</td>\n",
              "      <td>www.acmeservices.com</td>\n",
              "      <td>/editing-services/academic-editing-and-proofre...</td>\n",
              "      <td>keyword=academic%20proofreading&amp;matchtype=p&amp;de...</td>\n",
              "      <td>www.google.com</td>\n",
              "      <td>Mozilla/5.0 (Windows NT 10.0; Win64; x64) Appl...</td>\n",
              "      <td>73.132.164.124</td>\n",
              "    </tr>\n",
              "    <tr>\n",
              "      <th>3</th>\n",
              "      <td>f072cc36-105d-4c55-b5b0-3247243d9ddd</td>\n",
              "      <td>NaN</td>\n",
              "      <td>09/07/17 11:04</td>\n",
              "      <td>www.acmeservices.com</td>\n",
              "      <td>/editing-services/english-language-check-servi...</td>\n",
              "      <td>keyword=language%20editing%20service&amp;matchtype...</td>\n",
              "      <td>www.google.iq</td>\n",
              "      <td>Mozilla/5.0 (Windows NT 6.3; WOW64; Trident/7....</td>\n",
              "      <td>159.255.163.4</td>\n",
              "    </tr>\n",
              "    <tr>\n",
              "      <th>4</th>\n",
              "      <td>3fff8ecf-7ec1-4345-a132-5d150a0b0f8c</td>\n",
              "      <td>a01ef48d-8533-4c82-93e5-c3d7c7f04d07</td>\n",
              "      <td>09/07/17 12:08</td>\n",
              "      <td>www.acmeservices.com</td>\n",
              "      <td>/editing-services/english-language-editing-and...</td>\n",
              "      <td>keyword=language%20editing&amp;matchtype=p&amp;device=...</td>\n",
              "      <td>www.google.dk</td>\n",
              "      <td>Mozilla/5.0 (Windows NT 10.0; Win64; x64) Appl...</td>\n",
              "      <td>2.110.98.148</td>\n",
              "    </tr>\n",
              "  </tbody>\n",
              "</table>\n",
              "</div>"
            ],
            "text/plain": [
              "                             session id  ...          geo_ip\n",
              "0  3efae056-7cd2-4e89-9820-a1b938cbb746  ...  73.132.164.124\n",
              "1  7039c571-4487-4d96-8013-4b4b70e66dc7  ...  100.35.108.133\n",
              "2  5b31e12a-229f-4774-8dae-b7267d04cba2  ...  73.132.164.124\n",
              "3  f072cc36-105d-4c55-b5b0-3247243d9ddd  ...   159.255.163.4\n",
              "4  3fff8ecf-7ec1-4345-a132-5d150a0b0f8c  ...    2.110.98.148\n",
              "\n",
              "[5 rows x 9 columns]"
            ]
          },
          "metadata": {
            "tags": []
          },
          "execution_count": 15
        }
      ]
    },
    {
      "cell_type": "code",
      "metadata": {
        "id": "FpTf5EvLQTKi",
        "colab_type": "code",
        "colab": {}
      },
      "source": [
        "def ask(x):\n",
        "  response = DbIpCity.get(x, api_key='free')\n",
        "  city=response.city\n",
        "  region=response.region\n",
        "  country=response.country\n",
        "  \n",
        "  return [country, city, region]\n",
        "  \n",
        "  \n"
      ],
      "execution_count": 0,
      "outputs": []
    },
    {
      "cell_type": "code",
      "metadata": {
        "id": "i9CM-hhVSyWh",
        "colab_type": "code",
        "colab": {}
      },
      "source": [
        "data['geo info']=data['geo_ip'].apply(ask)\n"
      ],
      "execution_count": 0,
      "outputs": []
    },
    {
      "cell_type": "code",
      "metadata": {
        "id": "XK9YnhuYS1wx",
        "colab_type": "code",
        "outputId": "51bdcf64-97c2-4ed2-8cef-894b1e2d08e5",
        "colab": {
          "base_uri": "https://localhost:8080/",
          "height": 1000
        }
      },
      "source": [
        "data['geo info']"
      ],
      "execution_count": 0,
      "outputs": [
        {
          "output_type": "execute_result",
          "data": {
            "text/plain": [
              "0      [US, Washington D.C. (Northwest Washington), D...\n",
              "1                               [US, Newark, New Jersey]\n",
              "2      [US, Washington D.C. (Northwest Washington), D...\n",
              "3                                     [IQ, Erbil, Arbīl]\n",
              "4                    [DK, Frederiksberg, Capital Region]\n",
              "5                             [IN, Hyderabad, Telangana]\n",
              "6                                   [PK, Lahore, Punjab]\n",
              "7                        [CH, Zurich (Wiedikon), Zurich]\n",
              "8                    [CA, Toronto (North York), Ontario]\n",
              "9                    [IN, New Delhi (Barakhamba), Delhi]\n",
              "10                   [VN, Ho Chi Minh City, Ho Chi Minh]\n",
              "11                         [IT, Bologna, Emilia-Romagna]\n",
              "12                [SG, Singapore (Sengkang), North East]\n",
              "13                              [US, New York, New York]\n",
              "14                       [MA, Rabat, Rabat-Salé-Kénitra]\n",
              "15                                [SA, Riyadh, Ar Riyāḑ]\n",
              "16                        [ID, Central Jakarta, Jakarta]\n",
              "17                        [KR, Seoul (Gwanak-ro), Seoul]\n",
              "18                                [TR, Trabzon, Trabzon]\n",
              "19                      [CA, Whistler, British Columbia]\n",
              "20                       [US, San Francisco, California]\n",
              "21       [DE, Mainz (Mainz-Laubenheim), Rheinland-Pfalz]\n",
              "22                         [US, Los Angeles, California]\n",
              "23                               [US, Ashburn, Virginia]\n",
              "24                              [NZ, Auckland, Auckland]\n",
              "25                             [DZ, Ben ’Aknoûn, Tipaza]\n",
              "26                              [US, New York, New York]\n",
              "27                               [US, Boulder, Colorado]\n",
              "28             [BR, Blumenau (Vorstadt), Santa Catarina]\n",
              "29                             [TW, Tainan City, Taiwan]\n",
              "                             ...                        \n",
              "370         [KR, Seongnam-si (Buljeong-ro), Gyeonggi-do]\n",
              "371         [KR, Seongnam-si (Buljeong-ro), Gyeonggi-do]\n",
              "372         [KR, Seongnam-si (Buljeong-ro), Gyeonggi-do]\n",
              "373                       [KR, Chuncheon-si, Gangwon-do]\n",
              "374                       [KR, Seoul (Toegye-ro), Seoul]\n",
              "375                   [KR, Seoul (Hangang-daero), Seoul]\n",
              "376                       [KR, Seoul (Toegye-ro), Seoul]\n",
              "377                       [KR, Seoul (Toegye-ro), Seoul]\n",
              "378                   [KR, Seoul (Hangang-daero), Seoul]\n",
              "379    [KR, Dangjin-si (Yeokcheon-ro), Chungcheongnam...\n",
              "380         [KR, Seongnam-si (Buljeong-ro), Gyeonggi-do]\n",
              "381                   [KR, Daejeon (Daehak-ro), Daejeon]\n",
              "382                       [KR, Seongnam-si, Gyeonggi-do]\n",
              "383                   [KR, Seoul (Mokdongseo-ro), Seoul]\n",
              "384                   [KR, Seoul (Mokdongseo-ro), Seoul]\n",
              "385                   [KR, Seoul (Mokdongseo-ro), Seoul]\n",
              "386                   [KR, Seoul (Mokdongseo-ro), Seoul]\n",
              "387                   [KR, Seoul (Mokdongseo-ro), Seoul]\n",
              "388                                   [DZ, Sétif, Sétif]\n",
              "389                              [KR, Namoe-dong, Ulsan]\n",
              "390                   [KR, Seoul (Mokdongseo-ro), Seoul]\n",
              "391         [KR, Jeonju-si (Dongbu-daero), Jeollabuk-do]\n",
              "392                                   [KR, Seoul, Seoul]\n",
              "393                        [KR, Seoul (Eulji-ro), Seoul]\n",
              "394                          [KR, Ansan-si, Gyeonggi-do]\n",
              "395              [KR, Bucheon-si (Sosa-gu), Gyeonggi-do]\n",
              "396                       [KR, Seoul (Toegye-ro), Seoul]\n",
              "397         [KR, Seongnam-si (Buljeong-ro), Gyeonggi-do]\n",
              "398         [KR, Seongnam-si (Buljeong-ro), Gyeonggi-do]\n",
              "399         [KR, Seongnam-si (Buljeong-ro), Gyeonggi-do]\n",
              "Name: geo info, Length: 400, dtype: object"
            ]
          },
          "metadata": {
            "tags": []
          },
          "execution_count": 30
        }
      ]
    },
    {
      "cell_type": "code",
      "metadata": {
        "id": "A-UsYKPIU7yX",
        "colab_type": "code",
        "colab": {}
      },
      "source": [
        "\n",
        "\n",
        "\n"
      ],
      "execution_count": 0,
      "outputs": []
    },
    {
      "cell_type": "code",
      "metadata": {
        "id": "Sp4SXf3xa-1a",
        "colab_type": "code",
        "colab": {}
      },
      "source": [
        ""
      ],
      "execution_count": 0,
      "outputs": []
    }
  ]
}